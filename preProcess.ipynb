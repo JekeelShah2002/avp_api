{
 "cells": [
  {
   "cell_type": "code",
   "execution_count": null,
   "id": "e7782059-c5d2-4713-8438-8c429a65590f",
   "metadata": {},
   "outputs": [],
   "source": [
    "!pip uninstall pyspark"
   ]
  },
  {
   "cell_type": "code",
   "execution_count": null,
   "id": "20873065-174d-46dd-a217-9b52058c88fe",
   "metadata": {},
   "outputs": [],
   "source": [
    "from pyspark.sql import SparkSession\n",
    "\n",
    "# Create a Spark session\n",
    "spark = SparkSession.builder \\\n",
    "    .appName(\"AccidentVelocityPredictor\") \\\n",
    "    .config(\"spark.driver.memory\", \"4g\") \\\n",
    "    .getOrCreate()\n",
    "\n",
    "# Verify Spark session\n",
    "print(spark)"
   ]
  },
  {
   "cell_type": "code",
   "execution_count": null,
   "id": "8dce59b9-3255-40e4-9fb8-a356bea06ffc",
   "metadata": {},
   "outputs": [],
   "source": []
  }
 ],
 "metadata": {
  "kernelspec": {
   "display_name": "Python 3 (ipykernel)",
   "language": "python",
   "name": "python3"
  },
  "language_info": {
   "codemirror_mode": {
    "name": "ipython",
    "version": 3
   },
   "file_extension": ".py",
   "mimetype": "text/x-python",
   "name": "python",
   "nbconvert_exporter": "python",
   "pygments_lexer": "ipython3",
   "version": "3.13.1"
  }
 },
 "nbformat": 4,
 "nbformat_minor": 5
}
